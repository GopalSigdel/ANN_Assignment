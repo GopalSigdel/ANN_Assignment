{
 "cells": [
  {
   "cell_type": "markdown",
   "id": "b47fff21",
   "metadata": {},
   "source": [
    "## Conclusion"
   ]
  },
  {
   "cell_type": "code",
   "execution_count": 2,
   "id": "9de2d682",
   "metadata": {},
   "outputs": [
    {
     "name": "stdout",
     "output_type": "stream",
     "text": [
      "Defaulting to user installation because normal site-packages is not writeable\n",
      "Collecting prettytable\n",
      "  Obtaining dependency information for prettytable from https://files.pythonhosted.org/packages/c5/16/ec5cc65437dce97d2814a7ba31842b0ee958d102f6e99e264c35f15c328f/prettytable-3.10.2-py3-none-any.whl.metadata\n",
      "  Downloading prettytable-3.10.2-py3-none-any.whl.metadata (30 kB)\n",
      "Requirement already satisfied: wcwidth in c:\\programdata\\anaconda3\\lib\\site-packages (from prettytable) (0.2.5)\n",
      "Downloading prettytable-3.10.2-py3-none-any.whl (28 kB)\n",
      "Installing collected packages: prettytable\n",
      "Successfully installed prettytable-3.10.2\n"
     ]
    },
    {
     "name": "stderr",
     "output_type": "stream",
     "text": [
      "DEPRECATION: Loading egg at c:\\programdata\\anaconda3\\lib\\site-packages\\vboxapi-1.0-py3.11.egg is deprecated. pip 23.3 will enforce this behaviour change. A possible replacement is to use pip for package installation..\n"
     ]
    }
   ],
   "source": [
    "!pip install prettytable"
   ]
  },
  {
   "cell_type": "code",
   "execution_count": 3,
   "id": "f9eb9eb2",
   "metadata": {},
   "outputs": [],
   "source": [
    "from prettytable import PrettyTable"
   ]
  },
  {
   "cell_type": "code",
   "execution_count": 5,
   "id": "a9dc8b20",
   "metadata": {},
   "outputs": [
    {
     "name": "stdout",
     "output_type": "stream",
     "text": [
      "\n",
      "\n",
      " ********************************* Deep Learning LSTM Model Comparision ***********************************\n",
      "+----------------------------------------------------------------------------------------------------------+\n",
      "|                                            Model Comparision                                             |\n",
      "+-------------------------------------------+------------------------+--------------------------+----------+\n",
      "|                 Model Name                | Hyperparameter Tunning | categorical_crossentropy | Accuracy |\n",
      "+-------------------------------------------+------------------------+--------------------------+----------+\n",
      "|       LSTM With 1_Layer(neurons:32)       |          Done          |           0.47           |   0.90   |\n",
      "| LSTM With 2_Layer(neurons:48, neurons:32) |          Done          |           0.39           |   0.90   |\n",
      "| LSTM With 2_Layer(neurons:64, neurons:48) |          Done          |           0.27           |   0.91   |\n",
      "+-------------------------------------------+------------------------+--------------------------+----------+\n"
     ]
    }
   ],
   "source": [
    "ptable1 = PrettyTable()\n",
    "ptable1.title = \" Model Comparision \"\n",
    "ptable1.field_names = ['Model Name','Hyperparameter Tunning', 'Accuracy']\n",
    "\n",
    "# *****************************************************************\n",
    "\n",
    "ptable2 = PrettyTable()\n",
    "ptable2.title = \" Model Comparision \"\n",
    "ptable2.field_names = ['Model Name','Hyperparameter Tunning', 'categorical_crossentropy', 'Accuracy']\n",
    "\n",
    "print(\"\\n\\n ********************************* Deep Learning LSTM Model Comparision ***********************************\")\n",
    "ptable2.add_row([\"LSTM With 1_Layer(neurons:32)\",\"Done\",\"0.47\", \"0.90\"])\n",
    "ptable2.add_row([\"LSTM With 2_Layer(neurons:48, neurons:32)\",\"Done\",\"0.39\", \"0.90\"])\n",
    "ptable2.add_row([\"LSTM With 2_Layer(neurons:64, neurons:48)\",\"Done\",\"0.27\", \"0.91\"])\n",
    "\n",
    "print(ptable2)"
   ]
  },
  {
   "cell_type": "markdown",
   "id": "73e9266e",
   "metadata": {},
   "source": [
    "#### Deep Learning LSTM Model Comparision : When we talking about LSTM Model, here with LSTM we are using simple RAW data, LSTM perform very-very well and got highest 91% accuracy with 2_layer LSTM with hyperparameter Tunning and also we can clearly when we are increasing LSTM layer and Hyperparameter Tunning the cross-entropy value is decreasing and Accuracy is increasing."
   ]
  },
  {
   "cell_type": "code",
   "execution_count": null,
   "id": "d89e18c3",
   "metadata": {},
   "outputs": [],
   "source": []
  }
 ],
 "metadata": {
  "kernelspec": {
   "display_name": "Python 3 (ipykernel)",
   "language": "python",
   "name": "python3"
  },
  "language_info": {
   "codemirror_mode": {
    "name": "ipython",
    "version": 3
   },
   "file_extension": ".py",
   "mimetype": "text/x-python",
   "name": "python",
   "nbconvert_exporter": "python",
   "pygments_lexer": "ipython3",
   "version": "3.11.5"
  }
 },
 "nbformat": 4,
 "nbformat_minor": 5
}
